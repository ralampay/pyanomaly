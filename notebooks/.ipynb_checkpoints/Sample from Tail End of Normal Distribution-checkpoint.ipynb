{
 "cells": [
  {
   "cell_type": "markdown",
   "metadata": {},
   "source": [
    "# Sampling from Tail End of Normal Distribution\n",
    "Create a function given `mu` - mean of the distribution, `sig` - standard deviation, `n` - number of samples generated. Using IQR (interquartile range), sample data that is < Q2 and > Q3 from generated samples in a normal distribution."
   ]
  },
  {
   "cell_type": "code",
   "execution_count": 63,
   "metadata": {},
   "outputs": [],
   "source": [
    "# Required libraries\n",
    "import numpy as np\n",
    "\n",
    "def sample_tails(mu, sig, n=1000):\n",
    "    samples = np.array(sorted(np.random.normal(mu, sig, n)))\n",
    "    q1, q3 = np.percentile(samples, [25, 75])\n",
    "    iqr = q3 - q1\n",
    "    \n",
    "    lower_bound = q1 - (iqr * 1.5)\n",
    "    upper_bound = q3 + (iqr * 1.5)\n",
    "    \n",
    "    return np.concatenate((samples[samples < lower_bound], samples[samples > upper_bound]))"
   ]
  },
  {
   "cell_type": "markdown",
   "metadata": {},
   "source": [
    "## Test"
   ]
  },
  {
   "cell_type": "code",
   "execution_count": 67,
   "metadata": {
    "scrolled": true
   },
   "outputs": [
    {
     "name": "stdout",
     "output_type": "stream",
     "text": [
      "Lower Bound: -0.274228061291472\n",
      "Upper Bound: 0.27670262423381115\n",
      "[-0.45423814 -0.37068214 -0.3624705  -0.35414135 -0.35236354 -0.34470196\n",
      " -0.34230581 -0.34049072 -0.33728448 -0.33066872 -0.32949858 -0.32753808\n",
      " -0.32716278 -0.32205584 -0.32121828 -0.31874312 -0.31457119 -0.31281149\n",
      " -0.31244787 -0.31007302 -0.29766859 -0.29608413 -0.29443642 -0.29148406\n",
      " -0.29012417 -0.28573882 -0.28443818 -0.28357854 -0.2819087  -0.28121183\n",
      " -0.27967538 -0.27944483 -0.27926256 -0.27786697 -0.27678857 -0.2747673\n",
      "  0.27733496  0.27784283  0.2795491   0.28002502  0.28049402  0.28233578\n",
      "  0.28374483  0.28487171  0.28575482  0.28701368  0.28919064  0.28920182\n",
      "  0.29113849  0.29690216  0.29857406  0.30007956  0.3001815   0.30050855\n",
      "  0.3011183   0.30346975  0.3052541   0.30603176  0.31143805  0.31299052\n",
      "  0.31641687  0.31772466  0.32128729  0.32167874  0.32293015  0.32712546\n",
      "  0.32782206  0.33090703  0.33705465  0.33923431  0.34883035  0.35131091\n",
      "  0.35140192]\n"
     ]
    }
   ],
   "source": [
    "# Parameters\n",
    "mu = 0\n",
    "sig = 0.1\n",
    "n = 10000\n",
    "data_tails = sample_tails(mu, sig, n)\n",
    "print(data_tails)"
   ]
  },
  {
   "cell_type": "markdown",
   "metadata": {},
   "source": [
    "## Validate"
   ]
  },
  {
   "cell_type": "code",
   "execution_count": null,
   "metadata": {},
   "outputs": [],
   "source": []
  }
 ],
 "metadata": {
  "kernelspec": {
   "display_name": "Python 3",
   "language": "python",
   "name": "python3"
  },
  "language_info": {
   "codemirror_mode": {
    "name": "ipython",
    "version": 3
   },
   "file_extension": ".py",
   "mimetype": "text/x-python",
   "name": "python",
   "nbconvert_exporter": "python",
   "pygments_lexer": "ipython3",
   "version": "3.8.5"
  }
 },
 "nbformat": 4,
 "nbformat_minor": 4
}
