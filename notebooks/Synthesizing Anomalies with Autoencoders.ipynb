{
 "cells": [
  {
   "cell_type": "markdown",
   "metadata": {},
   "source": [
    "# Synthesizing Anomalies with Autoencoders\n",
    "\n",
    "This proposed methods utilizes an overfitted autoencoder model to synthesize anomalies. This procedure is in line with the principles discussed in the paper Systematic Construction of Anomaly Detection Benchmarks from Real Data (Emmott et. al.)."
   ]
  },
  {
   "cell_type": "code",
   "execution_count": 1,
   "metadata": {},
   "outputs": [],
   "source": [
    "%matplotlib inline\n",
    "\n",
    "# Import necessary libraries\n",
    "import sys\n",
    "sys.path.append(\"../pyanomaly/lib\")\n",
    "from deep_autoencoder import DeepAutoencoder\n",
    "\n",
    "import pandas as pd\n",
    "import random\n",
    "import numpy as np\n",
    "\n",
    "import matplotlib.pyplot as plt\n",
    "from sklearn.manifold import TSNE\n",
    "\n",
    "# Utility method to sample values on tail ends of a distribution given mean and standard deviation\n",
    "# n refers to the number of samples generated\n",
    "def sample_tails(mu, sig, n=1000):\n",
    "    samples = np.array(sorted(np.random.normal(mu, sig, n)))\n",
    "    q1, q3 = np.percentile(samples, [25, 75])\n",
    "    iqr = q3 - q1\n",
    "    \n",
    "    lower_bound = q1 - (iqr * 1.5)\n",
    "    upper_bound = q3 + (iqr * 1.5)\n",
    "    \n",
    "    return np.concatenate((samples[samples < lower_bound], samples[samples > upper_bound]))"
   ]
  },
  {
   "cell_type": "code",
   "execution_count": 2,
   "metadata": {},
   "outputs": [
    {
     "name": "stdout",
     "output_type": "stream",
     "text": [
      "Model: \"sequential_2\"\n",
      "_________________________________________________________________\n",
      "Layer (type)                 Output Shape              Param #   \n",
      "=================================================================\n",
      "sequential (Sequential)      (None, 5)                 60        \n",
      "_________________________________________________________________\n",
      "sequential_1 (Sequential)    (None, 11)                66        \n",
      "=================================================================\n",
      "Total params: 126\n",
      "Trainable params: 126\n",
      "Non-trainable params: 0\n",
      "_________________________________________________________________\n",
      "Model: \"sequential\"\n",
      "_________________________________________________________________\n",
      "Layer (type)                 Output Shape              Param #   \n",
      "=================================================================\n",
      "dense (Dense)                (None, 5)                 60        \n",
      "=================================================================\n",
      "Total params: 60\n",
      "Trainable params: 60\n",
      "Non-trainable params: 0\n",
      "_________________________________________________________________\n",
      "Model: \"sequential_1\"\n",
      "_________________________________________________________________\n",
      "Layer (type)                 Output Shape              Param #   \n",
      "=================================================================\n",
      "dense_1 (Dense)              (None, 11)                66        \n",
      "=================================================================\n",
      "Total params: 66\n",
      "Trainable params: 66\n",
      "Non-trainable params: 0\n",
      "_________________________________________________________________\n"
     ]
    }
   ],
   "source": [
    "# The configuration for the autoencoder\n",
    "config = {\n",
    "    \"input_size\": 11,\n",
    "    \"o_activation\": \"sigmoid\",\n",
    "    \"h_activation\": \"relu\",\n",
    "    \"optimizer\": {\n",
    "        \"name\": \"adam\",\n",
    "        \"learning_rate\": 0.001,\n",
    "        \"momentum\": 0.0,\n",
    "        \"decay\": 0.0\n",
    "    },\n",
    "    \"encoding_layers\": [\n",
    "        { \"size\": 9, \"activation\": \"relu\", \"bias\": 1.0 },\n",
    "        { \"size\": 5, \"activation\": \"relu\", \"bias\": 1.0 }\n",
    "    ],\n",
    "    \"decoding_layers\": [\n",
    "        { \"size\": 9, \"activation\": \"relu\", \"bias\": 1.0 },\n",
    "        { \"size\": 11, \"activation\": \"sigmoid\", \"bias\": 1.0 }\n",
    "    ],\n",
    "    \"epochs\": 5,\n",
    "    \"loss\": \"mse\",\n",
    "    \"bias\": 1.0,\n",
    "    \"batch_size\": 10\n",
    "}\n",
    "\n",
    "autoencoder = DeepAutoencoder(config)\n",
    "autoencoder.compile()\n",
    "autoencoder.summary()"
   ]
  },
  {
   "cell_type": "markdown",
   "metadata": {},
   "source": [
    "## Training\n",
    "\n",
    "Train the model until it is overfitting."
   ]
  },
  {
   "cell_type": "code",
   "execution_count": 3,
   "metadata": {},
   "outputs": [
    {
     "name": "stdout",
     "output_type": "stream",
     "text": [
      "Epoch 1/5\n",
      "1234/1234 [==============================] - 6s 5ms/step - loss: 0.0184 - acc: 0.9975\n",
      "Epoch 2/5\n",
      "1234/1234 [==============================] - 6s 5ms/step - loss: 0.0043 - acc: 0.9997\n",
      "Epoch 3/5\n",
      "1234/1234 [==============================] - 6s 5ms/step - loss: 0.0021 - acc: 0.9997\n",
      "Epoch 4/5\n",
      "1234/1234 [==============================] - 6s 5ms/step - loss: 0.0014 - acc: 0.9997\n",
      "Epoch 5/5\n",
      "1234/1234 [==============================] - 7s 5ms/step - loss: 0.0011 - acc: 0.9997\n"
     ]
    }
   ],
   "source": [
    "input_file = \"../pyanomaly/data/magic04_normalized_gamma.csv\"\n",
    "input_data = pd.read_csv(input_file)\n",
    "input_data_no_labels = input_data.drop(['y'], axis=1)\n",
    "\n",
    "autoencoder.train(input_data_no_labels)"
   ]
  },
  {
   "cell_type": "markdown",
   "metadata": {},
   "source": [
    "## Encoding and Latent Parameters\n",
    "\n",
    "Create a dataset corresponding to the encoded version of the input data. Create vector of distribution parameters based on encoded data."
   ]
  },
  {
   "cell_type": "code",
   "execution_count": 4,
   "metadata": {},
   "outputs": [
    {
     "name": "stdout",
     "output_type": "stream",
     "text": [
      "Encoded Data Mean\n",
      "0    2.047977\n",
      "1    1.615716\n",
      "2    1.492735\n",
      "3    1.784805\n",
      "4    0.931840\n",
      "dtype: float32\n",
      "Encoded Data Standard Deviation\n",
      "0    0.513069\n",
      "1    0.497778\n",
      "2    0.342301\n",
      "3    0.706304\n",
      "4    0.388156\n",
      "dtype: float32\n"
     ]
    }
   ],
   "source": [
    "encoded_data = autoencoder.encode(input_data_no_labels)\n",
    "df_encoded_data = pd.DataFrame(data=encoded_data)\n",
    "df_encoded_data_mean = df_encoded_data.mean(axis=0)\n",
    "df_encoded_data_std = df_encoded_data.std(axis=0)\n",
    "predicted_data = autoencoder.predict(input_data_no_labels)\n",
    "print(\"Encoded Data Mean\")\n",
    "print(df_encoded_data_mean)\n",
    "print(\"Encoded Data Standard Deviation\")\n",
    "print(df_encoded_data_std)"
   ]
  },
  {
   "cell_type": "markdown",
   "metadata": {},
   "source": [
    "## Sampling Anomalous Data\n",
    "From mean and std of encoded data, randomly select x dimensions and sample from their tail ends. Dimensions that do not belong to x will use sampled data from the original encoded set. \n",
    "\n",
    "For example, if we set `stochastic_dimension_count` to `5` it means we randomly select `5` dimensions from the encoded vector's dimensionality and sample tail end values from a nomral distrubution of those `5` dimensions. The remaining dimensions' values will be sampled randomly from existing data in `df_encoded_data`.\n",
    "\n",
    "The intuition is to create encoded data that is sampled from latent space based on the \"oracle\" (in this case, the autoencoder). This captures the relevant information as computed by the neural network.\n",
    "\n",
    "### Relative Frequency\n",
    "\n",
    "According to the paper, relative frequency `K` is the ratio of anomalous datapoints existing in a dataset. Example values would be `0.001`, `0.01`, `0.1`. In terms of sampling, we synthesize `K * num_datapoints` anomalous datapoints."
   ]
  },
  {
   "cell_type": "code",
   "execution_count": 9,
   "metadata": {},
   "outputs": [
    {
     "name": "stdout",
     "output_type": "stream",
     "text": [
      "Stochastic Dimensions:\n",
      "[4, 3]\n",
      "Number of datapoints: 12332\n",
      "Number of anomalous points to synthesize: 123\n",
      "Sampled Original:\n",
      "            0         1         2         3         4\n",
      "0    1.928260  2.020552  1.702778  1.739835  0.399317\n",
      "1    1.112020  0.369963  2.105583  2.728394  0.922224\n",
      "2    2.174213  1.771279  1.314724  1.867516  1.162874\n",
      "3    1.476631  1.257871  1.825077  2.469559  0.823391\n",
      "4    1.731403  1.481974  1.770144  2.218217  0.708523\n",
      "..        ...       ...       ...       ...       ...\n",
      "118  1.794718  1.076463  2.041837  1.854847  0.294075\n",
      "119  2.674934  2.245238  1.058974  0.786361  0.868333\n",
      "120  2.265763  1.460912  1.097391  1.657028  1.500729\n",
      "121  1.777585  1.977428  1.376973  2.372757  1.236731\n",
      "122  3.132543  1.167501  0.609569  0.547813  1.822424\n",
      "\n",
      "[123 rows x 5 columns]\n",
      "Synthetic Data:\n",
      "            0         1         2         3         4\n",
      "0    1.928260  2.020552  1.702778  3.835581  1.966072\n",
      "1    1.112020  0.369963  2.105583 -0.358803  2.017988\n",
      "2    2.174213  1.771279  1.314724  3.877073 -0.281994\n",
      "3    1.476631  1.257871  1.825077  3.713615 -0.416738\n",
      "4    1.731403  1.481974  1.770144  3.855592 -0.256767\n",
      "..        ...       ...       ...       ...       ...\n",
      "118  1.794718  1.076463  2.041837 -0.231567  2.078059\n",
      "119  2.674934  2.245238  1.058974 -0.815615 -0.321013\n",
      "120  2.265763  1.460912  1.097391  3.726437  2.081155\n",
      "121  1.777585  1.977428  1.376973  3.680218  2.029353\n",
      "122  3.132543  1.167501  0.609569  3.858164 -0.319355\n",
      "\n",
      "[123 rows x 5 columns]\n",
      "       0    1    2         3         4\n",
      "0    0.0  0.0  0.0  2.095746  1.566755\n",
      "1    0.0  0.0  0.0 -3.087196  1.095764\n",
      "2    0.0  0.0  0.0  2.009557 -1.444868\n",
      "3    0.0  0.0  0.0  1.244056 -1.240129\n",
      "4    0.0  0.0  0.0  1.637375 -0.965290\n",
      "..   ...  ...  ...       ...       ...\n",
      "118  0.0  0.0  0.0 -2.086414  1.783984\n",
      "119  0.0  0.0  0.0 -1.601976 -1.189346\n",
      "120  0.0  0.0  0.0  2.069409  0.580426\n",
      "121  0.0  0.0  0.0  1.307461  0.792622\n",
      "122  0.0  0.0  0.0  3.310350 -2.141780\n",
      "\n",
      "[123 rows x 5 columns]\n"
     ]
    }
   ],
   "source": [
    "stochastic_dimension_count = 2\n",
    "stochastic_dimensions = random.sample(range(len(df_encoded_data.columns)), stochastic_dimension_count)\n",
    "\n",
    "relative_frequency = 0.01\n",
    "num_datapoints = len(input_data.index)\n",
    "num_to_synthesize = round(relative_frequency * num_datapoints)\n",
    "sampled_original = (df_encoded_data.sample(num_to_synthesize)).reset_index(drop=True)\n",
    "\n",
    "# Loop through each sampled_original and sample a tail end for each dimension in stohastic_dimensions\n",
    "\n",
    "synthetic_data = sampled_original.copy()\n",
    "\n",
    "for index, row in synthetic_data.iterrows():\n",
    "    for d in stochastic_dimensions:\n",
    "        tail_values = sample_tails(df_encoded_data_mean.values[d], df_encoded_data_std.values[d], 10000)\n",
    "        sampled_outlier_feature = random.choice(tail_values)\n",
    "        synthetic_data.at[index, d] = sampled_outlier_feature\n",
    "\n",
    "print(\"Stochastic Dimensions:\")\n",
    "print(stochastic_dimensions)\n",
    "print(\"Number of datapoints:\", num_datapoints)\n",
    "print(\"Number of anomalous points to synthesize:\", num_to_synthesize)\n",
    "print(\"Sampled Original:\")\n",
    "print(sampled_original)\n",
    "\n",
    "print(\"Synthetic Data:\")\n",
    "print(synthetic_data)\n",
    "\n",
    "print(synthetic_data - sampled_original)"
   ]
  },
  {
   "cell_type": "markdown",
   "metadata": {},
   "source": [
    "### Synthesize Anomalous Data Points\n",
    "To synthesize anomalous datapoints, we decode the synthetic data and map it back to its original dimensionality using the trained weights from the original autoencoder."
   ]
  },
  {
   "cell_type": "code",
   "execution_count": 10,
   "metadata": {},
   "outputs": [
    {
     "name": "stdout",
     "output_type": "stream",
     "text": [
      "Original Lengt: 12332\n",
      "Reconstructed Length: 12332\n",
      "Synthesized Length: 123\n"
     ]
    }
   ],
   "source": [
    "original_datapoints = input_data_no_labels.values\n",
    "reconstructed_datapoints = autoencoder.decode(encoded_data)\n",
    "synthesized_datapoints = autoencoder.decode(synthetic_data)\n",
    "\n",
    "original_length = len(original_datapoints)\n",
    "reconstructed_length = len(reconstructed_datapoints)\n",
    "synthesized_length = len(synthesized_datapoints)\n",
    "\n",
    "print(\"Original Lengt:\", original_length)\n",
    "print(\"Reconstructed Length:\", reconstructed_length)\n",
    "print(\"Synthesized Length:\", synthesized_length)"
   ]
  },
  {
   "cell_type": "markdown",
   "metadata": {},
   "source": [
    "## Visualization\n",
    "Visualize the data using TSNE"
   ]
  },
  {
   "cell_type": "code",
   "execution_count": 11,
   "metadata": {},
   "outputs": [
    {
     "data": {
      "text/plain": [
       "<matplotlib.collections.PathCollection at 0x7f6904458c10>"
      ]
     },
     "execution_count": 11,
     "metadata": {},
     "output_type": "execute_result"
    },
    {
     "data": {
      "image/png": "[encoded data removed]",
      "text/plain": [
       "<Figure size 432x360 with 1 Axes>"
      ]
     },
     "metadata": {
      "needs_background": "light"
     },
     "output_type": "display_data"
    },
    {
     "data": {
      "image/png": "[encoded data removed]",
      "text/plain": [
       "<Figure size 432x360 with 1 Axes>"
      ]
     },
     "metadata": {
      "needs_background": "light"
     },
     "output_type": "display_data"
    }
   ],
   "source": [
    "# Create a dataframe with labels 0 for normal data and 1 for anomalous data\n",
    "anomalous_data_labels = np.ones((synthesized_length, 1))\n",
    "original_data_labels = np.zeros((original_length, 1))\n",
    "\n",
    "anomalous_data_with_labels = np.append(synthesized_datapoints, anomalous_data_labels, axis=1)\n",
    "original_data_with_labels = np.append(original_datapoints, original_data_labels, axis=1)\n",
    "reconstructed_data_with_labels = np.append(reconstructed_datapoints, original_data_labels, axis=1)\n",
    "\n",
    "X = np.concatenate((anomalous_data_with_labels, original_data_with_labels))\n",
    "X_r = np.concatenate((anomalous_data_with_labels, reconstructed_data_with_labels))\n",
    "\n",
    "tsne = TSNE(n_components=2, random_state=0)\n",
    "X_2d = tsne.fit_transform(np.delete(X, np.s_[-1:], axis=1))\n",
    "X_2d_r = tsne.fit_transform(np.delete(X_r, np.s_[-1:], axis=1))\n",
    "\n",
    "plt.figure(figsize=(6,5))\n",
    "plt.title(\"Gamma Dataset\")\n",
    "plt.scatter(X_2d[0:(synthesized_length - 1),0], X_2d[0:(synthesized_length - 1),1], c='r', label='Normal', alpha=0.8)\n",
    "plt.scatter(X_2d[(synthesized_length):-1,0], X_2d[(synthesized_length):-1,1], c='b', label='Normal', alpha=0.8)\n",
    "\n",
    "plt.figure(figsize=(6,5))\n",
    "plt.title(\"Gamma Dataset (reconstructed)\")\n",
    "plt.scatter(X_2d_r[0:(synthesized_length - 1),0], X_2d_r[0:(synthesized_length - 1),1], c='r', label='Normal', alpha=0.8)\n",
    "plt.scatter(X_2d_r[(synthesized_length):-1,0], X_2d_r[(synthesized_length):-1,1], c='b', label='Normal', alpha=0.8)"
   ]
  },
  {
   "cell_type": "markdown",
   "metadata": {},
   "source": [
    "### "
   ]
  }
 ],
 "metadata": {
  "kernelspec": {
   "display_name": "Python 3",
   "language": "python",
   "name": "python3"
  },
  "language_info": {
   "codemirror_mode": {
    "name": "ipython",
    "version": 3
   },
   "file_extension": ".py",
   "mimetype": "text/x-python",
   "name": "python",
   "nbconvert_exporter": "python",
   "pygments_lexer": "ipython3",
   "version": "3.8.5"
  }
 },
 "nbformat": 4,
 "nbformat_minor": 4
}
