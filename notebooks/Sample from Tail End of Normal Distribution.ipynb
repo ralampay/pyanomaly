{
 "cells": [
  {
   "cell_type": "markdown",
   "metadata": {},
   "source": [
    "# Sampling from Tail End of Normal Distribution\n",
    "Create a function given `mu` - mean of the distribution, `sig` - standard deviation, `n` - number of samples generated. Using IQR (interquartile range), sample data that is < Q2 and > Q3 from generated samples in a normal distribution."
   ]
  },
  {
   "cell_type": "code",
   "execution_count": 1,
   "metadata": {},
   "outputs": [],
   "source": [
    "# Required libraries\n",
    "import numpy as np\n",
    "\n",
    "def sample_tails(mu, sig, n=1000):\n",
    "    samples = np.array(sorted(np.random.normal(mu, sig, n)))\n",
    "    q1, q3 = np.percentile(samples, [25, 75])\n",
    "    iqr = q3 - q1\n",
    "    \n",
    "    lower_bound = q1 - (iqr * 1.5)\n",
    "    upper_bound = q3 + (iqr * 1.5)\n",
    "    \n",
    "    return np.concatenate((samples[samples < lower_bound], samples[samples > upper_bound]))"
   ]
  },
  {
   "cell_type": "markdown",
   "metadata": {},
   "source": [
    "## Test"
   ]
  },
  {
   "cell_type": "code",
   "execution_count": 2,
   "metadata": {
    "scrolled": true
   },
   "outputs": [
    {
     "name": "stdout",
     "output_type": "stream",
     "text": [
      "[-0.37892323 -0.35389395 -0.3216472  -0.31567701 -0.31413594 -0.30825806\n",
      " -0.30820026 -0.307577   -0.30679531 -0.30535261 -0.30332893 -0.30252556\n",
      " -0.29916887 -0.29606703 -0.29461835 -0.29429613 -0.29384319 -0.29140076\n",
      " -0.28803769 -0.28644043 -0.28623944 -0.2815475  -0.28087368 -0.2798176\n",
      " -0.27961191 -0.27946112 -0.27777599 -0.27671092 -0.27670833  0.27697348\n",
      "  0.27735108  0.27840059  0.27886101  0.27931723  0.27933815  0.28475513\n",
      "  0.28549841  0.28568656  0.28828894  0.28864738  0.28931567  0.28948728\n",
      "  0.29123975  0.29479695  0.29997108  0.30181469  0.30200587  0.31074937\n",
      "  0.32124531  0.32241334  0.33794404  0.34806516  0.34895847  0.38391487]\n"
     ]
    }
   ],
   "source": [
    "# Parameters\n",
    "mu = 0\n",
    "sig = 0.1\n",
    "n = 10000\n",
    "data_tails = sample_tails(mu, sig, n)\n",
    "print(data_tails)"
   ]
  },
  {
   "cell_type": "markdown",
   "metadata": {},
   "source": [
    "## Validate"
   ]
  },
  {
   "cell_type": "code",
   "execution_count": null,
   "metadata": {},
   "outputs": [],
   "source": []
  }
 ],
 "metadata": {
  "kernelspec": {
   "display_name": "Python 3",
   "language": "python",
   "name": "python3"
  },
  "language_info": {
   "codemirror_mode": {
    "name": "ipython",
    "version": 3
   },
   "file_extension": ".py",
   "mimetype": "text/x-python",
   "name": "python",
   "nbconvert_exporter": "python",
   "pygments_lexer": "ipython3",
   "version": "3.8.5"
  }
 },
 "nbformat": 4,
 "nbformat_minor": 4
}
